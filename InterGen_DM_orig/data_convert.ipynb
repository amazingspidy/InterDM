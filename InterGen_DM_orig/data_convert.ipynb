{
 "cells": [
  {
   "cell_type": "code",
   "execution_count": 8,
   "metadata": {},
   "outputs": [],
   "source": [
    "from utils.plot_script import *\n",
    "from utils import paramUtil\n",
    "from utils.utils import *\n",
    "from utils.quaternion import *\n",
    "\n",
    "\n",
    "def plot_t2m(mp_data, result_path, caption):\n",
    "        mp_joint = []\n",
    "        for i, data in enumerate(mp_data):\n",
    "            if i == 0:\n",
    "                joint = data[:,:22*3].reshape(-1,22,3)\n",
    "            else:\n",
    "                joint = data[:,:22*3].reshape(-1,22,3)\n",
    "\n",
    "            mp_joint.append(joint)\n",
    "\n",
    "        plot_3d_motion(result_path, paramUtil.t2m_kinematic_chain, mp_joint, title=caption, fps=30)"
   ]
  },
  {
   "cell_type": "code",
   "execution_count": 15,
   "metadata": {},
   "outputs": [
    {
     "name": "stdout",
     "output_type": "stream",
     "text": [
      "(477, 2, 22, 9)\n",
      "239\n"
     ]
    }
   ],
   "source": [
    "#Original data visualize code\n",
    "motion1 = np.load(\"data/interhuman_processed/motions_processed_interrope/person1/1.npz\")\n",
    "motion2 = np.load(\"data/interhuman_processed/motions_processed_interrope/person2/1.npz\")\n",
    "#motion1.files\n",
    "motion1 = np.concatenate([motion1['joint_transl_global'], motion1['joint_rot6d_global']], axis=-1)\n",
    "motion2 = np.concatenate([motion2['joint_transl_global'], motion2['joint_rot6d_global']], axis=-1)\n",
    "motion = np.stack([motion1, motion2], axis = 1) # F, N, J, C\n",
    "print(motion.shape)\n",
    "\n",
    "motion = motion[0::2]\n",
    "sequences = [[], []]\n",
    "result_path = f\"results/{1}_interrope.mp4\"\n",
    "name = \"test\"\n",
    "for j in range(2):\n",
    "    motion_output = motion[:,j]\n",
    "    joints3d = motion_output[..., :3][:, :, [0,2,1]]\n",
    "    sequences[j].append(joints3d)\n",
    "\n",
    "for j in range(2):\n",
    "    sequences[j] = np.concatenate(sequences[j], axis=0)\n",
    "\n",
    "\n",
    "plot_t2m(mp_data=[sequences[0], sequences[1]], result_path=result_path, caption=name)"
   ]
  },
  {
   "cell_type": "code",
   "execution_count": 2,
   "metadata": {},
   "outputs": [
    {
     "name": "stdout",
     "output_type": "stream",
     "text": [
      "data.shape:  (476, 66)\n",
      "data.shape:  (476, 132)\n",
      "rot_data.shape:  (477, 132)\n",
      "data.shape:  (476, 264)\n",
      "data.shape:  (476, 268)\n",
      "data.shape:  (476, 66)\n",
      "data.shape:  (476, 132)\n",
      "rot_data.shape:  (477, 132)\n",
      "data.shape:  (476, 264)\n",
      "data.shape:  (476, 268)\n",
      "output.shape:  (1, 476, 2, 132)\n",
      "result.shape:  torch.Size([1, 476, 2, 258])\n",
      "motion_tensor.shape:  torch.Size([1, 476, 2, 258])\n",
      "238\n"
     ]
    }
   ],
   "source": [
    "motion1 = np.load(\"data/interhuman_processed/motions_processed_interrope/person1/1.npz\")\n",
    "motion2 = np.load(\"data/interhuman_processed/motions_processed_interrope/person2/1.npz\")\n",
    "#motion1.files\n",
    "motion1 = np.concatenate([motion1['joint_transl_global'], motion1['joint_rot6d_global']], axis=-1)\n",
    "motion2 = np.concatenate([motion2['joint_transl_global'], motion2['joint_rot6d_global']], axis=-1)\n",
    "motion = np.stack([motion1, motion2], axis = 1) # F, N, J, C\n",
    "motion = np.expand_dims(motion, axis=0) # 1, F, N, J, C\n",
    "\n",
    "\n",
    "motion_tensor = torch.tensor(motion, dtype=torch.float32, device=\"cuda\")  \n",
    "\n",
    "motion_tensor = convert_intergen_notation_v2(motion_tensor) # 1, F, N, 258\n",
    "print(\"motion_tensor.shape: \", motion_tensor.shape)\n",
    "motion_numpy = motion_tensor.cpu().numpy()\n",
    "\n",
    "#motion_numpy.shape\n",
    "motion = motion_numpy.squeeze(0) # 1, F, N, 258 -> F, N, 258\n",
    "#motion.shape\n",
    "motion = motion[1::2]\n",
    "sequences = [[], []]\n",
    "result_path = f\"results/{1}_interrope.mp4\"\n",
    "name = \"test\"\n",
    "for j in range(2):\n",
    "    motion_output = motion[:,j]\n",
    "    joints3d = motion_output[:,:22*3].reshape(-1,22,3)\n",
    "    #joints3d = filters.gaussian_filter1d(joints3d, 1, axis=0, mode='nearest')\n",
    "    sequences[j].append(joints3d)\n",
    "\n",
    "\n",
    "sequences[0] = np.concatenate(sequences[0], axis=0)\n",
    "sequences[1] = np.concatenate(sequences[1], axis=0)\n",
    "\n",
    "    \n",
    "    \n",
    "plot_t2m(mp_data=[sequences[0], sequences[1]],result_path=result_path, caption= name)"
   ]
  },
  {
   "cell_type": "code",
   "execution_count": 16,
   "metadata": {},
   "outputs": [
    {
     "name": "stdout",
     "output_type": "stream",
     "text": [
      "238\n"
     ]
    }
   ],
   "source": [
    "#InterGen processed data\n",
    "motion1 = np.load(\"data/interhuman_processed/motions_processed/person1/1.npy\")\n",
    "motion2 = np.load(\"data/interhuman_processed/motions_processed/person2/1.npy\")\n",
    "motion1, root_quat_init1, root_pos_init1 = process_motion_np(motion1, 0.001, 0, n_joints=22)\n",
    "motion2, root_quat_init2, root_pos_init2 = process_motion_np(motion2, 0.001, 0, n_joints=22)\n",
    "r_relative = qmul_np(root_quat_init2, qinv_np(root_quat_init1))\n",
    "angle = np.arctan2(r_relative[:, 2:3], r_relative[:, 0:1])\n",
    "\n",
    "xz = qrot_np(root_quat_init1, root_pos_init2 - root_pos_init1)[:, [0, 2]]\n",
    "relative = np.concatenate([angle, xz], axis=-1)[0]\n",
    "motion2 = rigid_transform(relative, motion2)\n",
    "\n",
    "\n",
    "\n",
    "result_path = f\"results/{1}.mp4\"\n",
    "name = \"test\"\n",
    "\n",
    "motion_output_both = np.stack([motion1, motion2], axis=1)\n",
    "sequences = [[], []]\n",
    "for j in range(2):\n",
    "    motion_output = motion_output_both[:,j]\n",
    "\n",
    "    joints3d = motion_output[:,:22*3].reshape(-1,22,3)\n",
    "    #joints3d = filters.gaussian_filter1d(joints3d, 1, axis=0, mode='nearest')\n",
    "    sequences[j].append(joints3d)\n",
    "\n",
    "\n",
    "sequences[0] = np.concatenate(sequences[0], axis=0)\n",
    "sequences[1] = np.concatenate(sequences[1], axis=0)\n",
    "\n",
    "    \n",
    "    \n",
    "plot_t2m(mp_data=[sequences[0], sequences[1]],result_path=result_path, caption= name)"
   ]
  },
  {
   "cell_type": "code",
   "execution_count": null,
   "metadata": {},
   "outputs": [],
   "source": []
  }
 ],
 "metadata": {
  "kernelspec": {
   "display_name": "intergen",
   "language": "python",
   "name": "python3"
  },
  "language_info": {
   "codemirror_mode": {
    "name": "ipython",
    "version": 3
   },
   "file_extension": ".py",
   "mimetype": "text/x-python",
   "name": "python",
   "nbconvert_exporter": "python",
   "pygments_lexer": "ipython3",
   "version": "3.8.20"
  }
 },
 "nbformat": 4,
 "nbformat_minor": 2
}
